{
 "cells": [
  {
   "cell_type": "markdown",
   "id": "b9da35c4",
   "metadata": {},
   "source": [
    "## Python\n"
   ]
  },
  {
   "cell_type": "markdown",
   "id": "7e281e3b",
   "metadata": {},
   "source": [
    "## Exercise 1"
   ]
  },
  {
   "cell_type": "markdown",
   "id": "8680ccc4",
   "metadata": {},
   "source": [
    " Question 1:\n",
    "Write a function that receives a list as parameter and return how many elements it has; if it doesn't have any element return an error."
   ]
  },
  {
   "cell_type": "code",
   "execution_count": null,
   "id": "70857a8f",
   "metadata": {},
   "outputs": [
    {
     "name": "stdout",
     "output_type": "stream",
     "text": [
      "Eleman sayısı: 3\n",
      "Hata: Liste boş. En az bir eleman içermeli.\n"
     ]
    }
   ],
   "source": [
    "def count_elements(my_list):\n",
    "    if not my_list:\n",
    "        raise ValueError(\"Liste boş. En az bir eleman içermeli.\")\n",
    "    return len(my_list)\n",
    "\n",
    "try:\n",
    "    liste = [1, 2, 3]\n",
    "    print(\"Eleman sayısı:\", count_elements(liste))\n",
    "    \n",
    "    bos_liste = []\n",
    "    print(\"Eleman sayısı:\", count_elements(bos_liste)) \n",
    "except ValueError as e:\n",
    "    print(\"Hata:\", e)\n"
   ]
  },
  {
   "cell_type": "markdown",
   "id": "696362aa",
   "metadata": {},
   "source": [
    "Question 2:\n",
    "Write a function that builds a character‑count dict from a string, with an option to ignore case."
   ]
  },
  {
   "cell_type": "code",
   "execution_count": 23,
   "id": "3fa2f240",
   "metadata": {},
   "outputs": [
    {
     "name": "stdout",
     "output_type": "stream",
     "text": [
      "{'m': 1, 'e': 1, 'r': 1, 'h': 1, 'a': 2, 'b': 1}\n"
     ]
    }
   ],
   "source": [
    "def karakter_sayisi(metin, buyuk_kucuk_farketme=True):\n",
    "    if buyuk_kucuk_farketme:\n",
    "        metin = metin.lower()\n",
    "\n",
    "    sayilar = {}\n",
    "\n",
    "    for harf in metin:\n",
    "        if harf in sayilar:\n",
    "            sayilar[harf] = sayilar[harf] + 1\n",
    "        else:\n",
    "            sayilar[harf] = 1\n",
    "\n",
    "    return sayilar\n",
    "\n",
    "\n",
    "print(karakter_sayisi(\"Merhaba\"))\n"
   ]
  },
  {
   "cell_type": "markdown",
   "id": "6ffca6a9",
   "metadata": {},
   "source": [
    "Question 3:\n",
    "Write a function that filters a list of numbers by a threshold and returns their squares"
   ]
  },
  {
   "cell_type": "code",
   "execution_count": 24,
   "id": "8397ba26",
   "metadata": {},
   "outputs": [
    {
     "name": "stdout",
     "output_type": "stream",
     "text": [
      "[25, 64, 100]\n"
     ]
    }
   ],
   "source": [
    "def kareleri_filtrele(sayilar, esik):\n",
    "    sonuc = []\n",
    "\n",
    "    for sayi in sayilar:\n",
    "        if sayi > esik:\n",
    "            sonuc.append(sayi * sayi)\n",
    "\n",
    "    return sonuc\n",
    "\n",
    "\n",
    "liste = [1, 5, 8, 3, 10]\n",
    "esik_deger = 4\n",
    "print(kareleri_filtrele(liste, esik_deger))  \n"
   ]
  }
 ],
 "metadata": {
  "kernelspec": {
   "display_name": "Python 3",
   "language": "python",
   "name": "python3"
  },
  "language_info": {
   "codemirror_mode": {
    "name": "ipython",
    "version": 3
   },
   "file_extension": ".py",
   "mimetype": "text/x-python",
   "name": "python",
   "nbconvert_exporter": "python",
   "pygments_lexer": "ipython3",
   "version": "3.12.1"
  }
 },
 "nbformat": 4,
 "nbformat_minor": 5
}
